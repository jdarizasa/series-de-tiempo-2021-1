{
 "cells": [
  {
   "cell_type": "markdown",
   "metadata": {
    "id": "4MCC0-hgucoB"
   },
   "source": [
    "# Red Neuronal"
   ]
  },
  {
   "cell_type": "code",
   "execution_count": 69,
   "metadata": {
    "id": "KQ1VgH_DD5PX"
   },
   "outputs": [],
   "source": [
    "import numpy as np\n",
    "import pandas as pd\n",
    "import matplotlib.pyplot as plt\n",
    "import tensorflow as tf\n",
    "from tensorflow.keras.layers import Input, Dense, Dropout, Flatten\n",
    "from tensorflow.keras.models import Model\n",
    "from sklearn.preprocessing import MinMaxScaler"
   ]
  },
  {
   "cell_type": "code",
   "execution_count": 2,
   "metadata": {
    "id": "GJlj-QK4KCgF"
   },
   "outputs": [],
   "source": [
    "df = pd.read_excel(\"pitagoras.xlsx\")"
   ]
  },
  {
   "cell_type": "code",
   "execution_count": 3,
   "metadata": {
    "colab": {
     "base_uri": "https://localhost:8080/",
     "height": 238
    },
    "id": "IyBigwHyELGZ",
    "outputId": "202b2630-cfa7-4836-fcb0-dac0bff4a932"
   },
   "outputs": [
    {
     "data": {
      "text/html": [
       "<div>\n",
       "<style scoped>\n",
       "    .dataframe tbody tr th:only-of-type {\n",
       "        vertical-align: middle;\n",
       "    }\n",
       "\n",
       "    .dataframe tbody tr th {\n",
       "        vertical-align: top;\n",
       "    }\n",
       "\n",
       "    .dataframe thead th {\n",
       "        text-align: right;\n",
       "    }\n",
       "</style>\n",
       "<table border=\"1\" class=\"dataframe\">\n",
       "  <thead>\n",
       "    <tr style=\"text-align: right;\">\n",
       "      <th></th>\n",
       "      <th>views</th>\n",
       "    </tr>\n",
       "    <tr>\n",
       "      <th>date</th>\n",
       "      <th></th>\n",
       "    </tr>\n",
       "  </thead>\n",
       "  <tbody>\n",
       "    <tr>\n",
       "      <th>2015-07-01</th>\n",
       "      <td>4701</td>\n",
       "    </tr>\n",
       "    <tr>\n",
       "      <th>2015-07-02</th>\n",
       "      <td>6333</td>\n",
       "    </tr>\n",
       "    <tr>\n",
       "      <th>2015-07-03</th>\n",
       "      <td>3625</td>\n",
       "    </tr>\n",
       "    <tr>\n",
       "      <th>2015-07-04</th>\n",
       "      <td>2133</td>\n",
       "    </tr>\n",
       "    <tr>\n",
       "      <th>2015-07-05</th>\n",
       "      <td>2530</td>\n",
       "    </tr>\n",
       "  </tbody>\n",
       "</table>\n",
       "</div>"
      ],
      "text/plain": [
       "            views\n",
       "date             \n",
       "2015-07-01   4701\n",
       "2015-07-02   6333\n",
       "2015-07-03   3625\n",
       "2015-07-04   2133\n",
       "2015-07-05   2530"
      ]
     },
     "execution_count": 3,
     "metadata": {
      "tags": []
     },
     "output_type": "execute_result"
    }
   ],
   "source": [
    "\n",
    "df['date'] = pd.to_datetime(df.date,format='%Y-%m-%d')\n",
    "df.index = df['date']\n",
    "df = df.sort_index(ascending=True, axis=0)\n",
    "data = pd.DataFrame(df[['date', 'views']])\n",
    "#\n",
    "\n",
    "data.index = data.date\n",
    "data.drop('date', axis=1, inplace=True)\n",
    "data.head()"
   ]
  },
  {
   "cell_type": "markdown",
   "metadata": {
    "id": "dGqozEGkyMey"
   },
   "source": [
    "Actualmente solo tenemos una columna (el número de visitas a la página del teórema de Pitagoras de Wikipedia). Para entrenar la red neuronal, se decide usar los 24 valores pasados como entradas adicionales. Para esto se construye la siguiente función."
   ]
  },
  {
   "cell_type": "code",
   "execution_count": 6,
   "metadata": {
    "id": "3QkLgnkCMJfz"
   },
   "outputs": [],
   "source": [
    "def create_regressor_attributes(df, attribute, list_of_prev_t_instants) :\n",
    "            \n",
    "    list_of_prev_t_instants.sort()\n",
    "    start = list_of_prev_t_instants[-1] \n",
    "    end = len(df)\n",
    "    df['datetime'] = df.index\n",
    "    df.reset_index(drop=True)\n",
    "\n",
    "    df_copy = df[start:end]\n",
    "    df_copy.reset_index(inplace=True, drop=True)\n",
    "\n",
    "    for attribute in attribute :\n",
    "            foobar = pd.DataFrame()\n",
    "\n",
    "            for prev_t in list_of_prev_t_instants :\n",
    "                new_col = pd.DataFrame(df[attribute].iloc[(start - prev_t) : (end - prev_t)])\n",
    "                new_col.reset_index(drop=True, inplace=True)\n",
    "                new_col.rename(columns={attribute : '{}_(t-{})'.format(attribute, prev_t)}, inplace=True)\n",
    "                foobar = pd.concat([foobar, new_col], sort=False, axis=1)\n",
    "\n",
    "            df_copy = pd.concat([df_copy, foobar], sort=False, axis=1)\n",
    "            \n",
    "    df_copy.set_index(['datetime'], drop=True, inplace=True)\n",
    "    return df_copy"
   ]
  },
  {
   "cell_type": "code",
   "execution_count": 7,
   "metadata": {
    "colab": {
     "base_uri": "https://localhost:8080/"
    },
    "id": "0CYV98aDMLEY",
    "outputId": "79a4eaef-d9f3-4cd8-b0e2-358e728d6dd7"
   },
   "outputs": [
    {
     "data": {
      "text/plain": [
       "[1,\n",
       " 2,\n",
       " 3,\n",
       " 4,\n",
       " 5,\n",
       " 6,\n",
       " 7,\n",
       " 8,\n",
       " 9,\n",
       " 10,\n",
       " 11,\n",
       " 12,\n",
       " 13,\n",
       " 14,\n",
       " 15,\n",
       " 16,\n",
       " 17,\n",
       " 18,\n",
       " 19,\n",
       " 20,\n",
       " 21,\n",
       " 22,\n",
       " 23,\n",
       " 24]"
      ]
     },
     "execution_count": 7,
     "metadata": {
      "tags": []
     },
     "output_type": "execute_result"
    }
   ],
   "source": [
    "list_of_attributes = ['views']\n",
    "\n",
    "list_of_prev_t_instants = []\n",
    "for i in range(1,25):\n",
    "    list_of_prev_t_instants.append(i)"
   ]
  },
  {
   "cell_type": "code",
   "execution_count": 8,
   "metadata": {
    "colab": {
     "base_uri": "https://localhost:8080/",
     "height": 258
    },
    "id": "-TIMuB2eNT82",
    "outputId": "67237534-da05-47fa-c655-2038d5f57f95"
   },
   "outputs": [
    {
     "data": {
      "text/html": [
       "<div>\n",
       "<style scoped>\n",
       "    .dataframe tbody tr th:only-of-type {\n",
       "        vertical-align: middle;\n",
       "    }\n",
       "\n",
       "    .dataframe tbody tr th {\n",
       "        vertical-align: top;\n",
       "    }\n",
       "\n",
       "    .dataframe thead th {\n",
       "        text-align: right;\n",
       "    }\n",
       "</style>\n",
       "<table border=\"1\" class=\"dataframe\">\n",
       "  <thead>\n",
       "    <tr style=\"text-align: right;\">\n",
       "      <th></th>\n",
       "      <th>views</th>\n",
       "      <th>views_(t-1)</th>\n",
       "      <th>views_(t-2)</th>\n",
       "      <th>views_(t-3)</th>\n",
       "      <th>views_(t-4)</th>\n",
       "      <th>views_(t-5)</th>\n",
       "      <th>views_(t-6)</th>\n",
       "      <th>views_(t-7)</th>\n",
       "      <th>views_(t-8)</th>\n",
       "      <th>views_(t-9)</th>\n",
       "      <th>views_(t-10)</th>\n",
       "      <th>views_(t-11)</th>\n",
       "      <th>views_(t-12)</th>\n",
       "      <th>views_(t-13)</th>\n",
       "      <th>views_(t-14)</th>\n",
       "      <th>views_(t-15)</th>\n",
       "      <th>views_(t-16)</th>\n",
       "      <th>views_(t-17)</th>\n",
       "      <th>views_(t-18)</th>\n",
       "      <th>views_(t-19)</th>\n",
       "      <th>views_(t-20)</th>\n",
       "      <th>views_(t-21)</th>\n",
       "      <th>views_(t-22)</th>\n",
       "      <th>views_(t-23)</th>\n",
       "      <th>views_(t-24)</th>\n",
       "    </tr>\n",
       "    <tr>\n",
       "      <th>datetime</th>\n",
       "      <th></th>\n",
       "      <th></th>\n",
       "      <th></th>\n",
       "      <th></th>\n",
       "      <th></th>\n",
       "      <th></th>\n",
       "      <th></th>\n",
       "      <th></th>\n",
       "      <th></th>\n",
       "      <th></th>\n",
       "      <th></th>\n",
       "      <th></th>\n",
       "      <th></th>\n",
       "      <th></th>\n",
       "      <th></th>\n",
       "      <th></th>\n",
       "      <th></th>\n",
       "      <th></th>\n",
       "      <th></th>\n",
       "      <th></th>\n",
       "      <th></th>\n",
       "      <th></th>\n",
       "      <th></th>\n",
       "      <th></th>\n",
       "      <th></th>\n",
       "    </tr>\n",
       "  </thead>\n",
       "  <tbody>\n",
       "    <tr>\n",
       "      <th>2015-07-25</th>\n",
       "      <td>1578</td>\n",
       "      <td>2353</td>\n",
       "      <td>3003</td>\n",
       "      <td>3460</td>\n",
       "      <td>3504</td>\n",
       "      <td>3149</td>\n",
       "      <td>1886</td>\n",
       "      <td>1891</td>\n",
       "      <td>2775</td>\n",
       "      <td>3470</td>\n",
       "      <td>3822</td>\n",
       "      <td>3656</td>\n",
       "      <td>3415</td>\n",
       "      <td>2495</td>\n",
       "      <td>2283</td>\n",
       "      <td>3308</td>\n",
       "      <td>4048</td>\n",
       "      <td>4617</td>\n",
       "      <td>4507</td>\n",
       "      <td>3866</td>\n",
       "      <td>2530</td>\n",
       "      <td>2133</td>\n",
       "      <td>3625</td>\n",
       "      <td>6333</td>\n",
       "      <td>4701</td>\n",
       "    </tr>\n",
       "    <tr>\n",
       "      <th>2015-07-26</th>\n",
       "      <td>1960</td>\n",
       "      <td>1578</td>\n",
       "      <td>2353</td>\n",
       "      <td>3003</td>\n",
       "      <td>3460</td>\n",
       "      <td>3504</td>\n",
       "      <td>3149</td>\n",
       "      <td>1886</td>\n",
       "      <td>1891</td>\n",
       "      <td>2775</td>\n",
       "      <td>3470</td>\n",
       "      <td>3822</td>\n",
       "      <td>3656</td>\n",
       "      <td>3415</td>\n",
       "      <td>2495</td>\n",
       "      <td>2283</td>\n",
       "      <td>3308</td>\n",
       "      <td>4048</td>\n",
       "      <td>4617</td>\n",
       "      <td>4507</td>\n",
       "      <td>3866</td>\n",
       "      <td>2530</td>\n",
       "      <td>2133</td>\n",
       "      <td>3625</td>\n",
       "      <td>6333</td>\n",
       "    </tr>\n",
       "    <tr>\n",
       "      <th>2015-07-27</th>\n",
       "      <td>2815</td>\n",
       "      <td>1960</td>\n",
       "      <td>1578</td>\n",
       "      <td>2353</td>\n",
       "      <td>3003</td>\n",
       "      <td>3460</td>\n",
       "      <td>3504</td>\n",
       "      <td>3149</td>\n",
       "      <td>1886</td>\n",
       "      <td>1891</td>\n",
       "      <td>2775</td>\n",
       "      <td>3470</td>\n",
       "      <td>3822</td>\n",
       "      <td>3656</td>\n",
       "      <td>3415</td>\n",
       "      <td>2495</td>\n",
       "      <td>2283</td>\n",
       "      <td>3308</td>\n",
       "      <td>4048</td>\n",
       "      <td>4617</td>\n",
       "      <td>4507</td>\n",
       "      <td>3866</td>\n",
       "      <td>2530</td>\n",
       "      <td>2133</td>\n",
       "      <td>3625</td>\n",
       "    </tr>\n",
       "    <tr>\n",
       "      <th>2015-07-28</th>\n",
       "      <td>3220</td>\n",
       "      <td>2815</td>\n",
       "      <td>1960</td>\n",
       "      <td>1578</td>\n",
       "      <td>2353</td>\n",
       "      <td>3003</td>\n",
       "      <td>3460</td>\n",
       "      <td>3504</td>\n",
       "      <td>3149</td>\n",
       "      <td>1886</td>\n",
       "      <td>1891</td>\n",
       "      <td>2775</td>\n",
       "      <td>3470</td>\n",
       "      <td>3822</td>\n",
       "      <td>3656</td>\n",
       "      <td>3415</td>\n",
       "      <td>2495</td>\n",
       "      <td>2283</td>\n",
       "      <td>3308</td>\n",
       "      <td>4048</td>\n",
       "      <td>4617</td>\n",
       "      <td>4507</td>\n",
       "      <td>3866</td>\n",
       "      <td>2530</td>\n",
       "      <td>2133</td>\n",
       "    </tr>\n",
       "    <tr>\n",
       "      <th>2015-07-29</th>\n",
       "      <td>2890</td>\n",
       "      <td>3220</td>\n",
       "      <td>2815</td>\n",
       "      <td>1960</td>\n",
       "      <td>1578</td>\n",
       "      <td>2353</td>\n",
       "      <td>3003</td>\n",
       "      <td>3460</td>\n",
       "      <td>3504</td>\n",
       "      <td>3149</td>\n",
       "      <td>1886</td>\n",
       "      <td>1891</td>\n",
       "      <td>2775</td>\n",
       "      <td>3470</td>\n",
       "      <td>3822</td>\n",
       "      <td>3656</td>\n",
       "      <td>3415</td>\n",
       "      <td>2495</td>\n",
       "      <td>2283</td>\n",
       "      <td>3308</td>\n",
       "      <td>4048</td>\n",
       "      <td>4617</td>\n",
       "      <td>4507</td>\n",
       "      <td>3866</td>\n",
       "      <td>2530</td>\n",
       "    </tr>\n",
       "  </tbody>\n",
       "</table>\n",
       "</div>"
      ],
      "text/plain": [
       "            views  views_(t-1)  ...  views_(t-23)  views_(t-24)\n",
       "datetime                        ...                            \n",
       "2015-07-25   1578         2353  ...          6333          4701\n",
       "2015-07-26   1960         1578  ...          3625          6333\n",
       "2015-07-27   2815         1960  ...          2133          3625\n",
       "2015-07-28   3220         2815  ...          2530          2133\n",
       "2015-07-29   2890         3220  ...          3866          2530\n",
       "\n",
       "[5 rows x 25 columns]"
      ]
     },
     "execution_count": 8,
     "metadata": {
      "tags": []
     },
     "output_type": "execute_result"
    }
   ],
   "source": [
    "df_new = create_regressor_attributes(data, list_of_attributes, list_of_prev_t_instants)\n",
    "df_new.head()"
   ]
  },
  {
   "cell_type": "markdown",
   "metadata": {
    "id": "JpUHv0KP0hxt"
   },
   "source": [
    "Tras obtener los retardos se dividen los datos entre los datos de entrenamiento, de validación y de prueba."
   ]
  },
  {
   "cell_type": "code",
   "execution_count": 130,
   "metadata": {
    "colab": {
     "base_uri": "https://localhost:8080/"
    },
    "id": "IbSZQ6fwGgmP",
    "outputId": "5fa18e9b-ffaa-4a78-c7e0-9cfd24a5a873"
   },
   "outputs": [
    {
     "name": "stdout",
     "output_type": "stream",
     "text": [
      "Shape of training inputs, training target: (640, 24) (640,)\n",
      "Shape of validation inputs, validation target: (66, 24) (66,)\n",
      "Shape of test inputs, test target: (73, 24) (73,)\n"
     ]
    }
   ],
   "source": [
    "test_set_size = 0.094\n",
    "valid_set_size= 0.094\n",
    "\n",
    "df_copy = df_new.reset_index(drop=True)\n",
    "\n",
    "df_test = df_copy.iloc[ int(np.floor(len(df_copy)*(1-test_set_size)))+1 : ]\n",
    "df_train_plus_valid = df_copy.iloc[ : int(np.floor(len(df_copy)*(1-test_set_size)))+1 ]\n",
    "\n",
    "df_train = df_train_plus_valid.iloc[ : int(np.floor(len(df_train_plus_valid)*(1-valid_set_size)))+1 ]\n",
    "df_valid = df_train_plus_valid.iloc[ int(np.floor(len(df_train_plus_valid)*(1-valid_set_size)))+1 : ]\n",
    "\n",
    "\n",
    "X_train, y_train = df_train.iloc[:, 1:], df_train.iloc[:, 0]\n",
    "X_valid, y_valid = df_valid.iloc[:, 1:], df_valid.iloc[:, 0]\n",
    "X_test, y_test = df_test.iloc[:, 1:], df_test.iloc[:, 0]\n",
    "\n",
    "print('Shape of training inputs, training target:', X_train.shape, y_train.shape)\n",
    "print('Shape of validation inputs, validation target:', X_valid.shape, y_valid.shape)\n",
    "print('Shape of test inputs, test target:', X_test.shape, y_test.shape)"
   ]
  },
  {
   "cell_type": "markdown",
   "metadata": {
    "id": "VkDvNSL31Soc"
   },
   "source": [
    "Se normalizan los datos en el rango (0.01, 0.99) como ultimo paso antes de crear la red neuronal."
   ]
  },
  {
   "cell_type": "code",
   "execution_count": 85,
   "metadata": {
    "id": "hdr-lrkPQMsI"
   },
   "outputs": [],
   "source": [
    "from sklearn.preprocessing import MinMaxScaler\n",
    "\n",
    "Target_scaler = MinMaxScaler(feature_range=(0.01, 0.99))\n",
    "Feature_scaler = MinMaxScaler(feature_range=(0.01, 0.99))\n",
    "\n",
    "X_train_scaled = Feature_scaler.fit_transform(np.array(X_train))\n",
    "X_valid_scaled = Feature_scaler.fit_transform(np.array(X_valid))\n",
    "X_test_scaled = Feature_scaler.fit_transform(np.array(X_test))\n",
    "\n",
    "y_train_scaled = Target_scaler.fit_transform(np.array(y_train).reshape(-1,1))\n",
    "y_valid_scaled = Target_scaler.fit_transform(np.array(y_valid).reshape(-1,1))\n",
    "y_test_scaled = Target_scaler.fit_transform(np.array(y_test).reshape(-1,1))"
   ]
  },
  {
   "cell_type": "markdown",
   "metadata": {
    "id": "bUZ44JJr11ac"
   },
   "source": [
    "Se decide usar funciones de activación lineales porque al tenerse tan pocos datos otras funciones de activación exponen al modelo a un sobre-ajuste."
   ]
  },
  {
   "cell_type": "code",
   "execution_count": 109,
   "metadata": {
    "id": "wnY2k2ELPetC"
   },
   "outputs": [],
   "source": [
    "input_layer = Input(shape=(24), dtype='float32')\n",
    "dense1 = Dense(4, activation='linear')(input_layer)\n",
    "#dropout_layer1 = Dropout(0.1)(dense1)\n",
    "#dense2 = Dense(2, activation='relu')(dropout_layer1)\n",
    "#dropout_layer2 = Dropout(0.1)(dense2)\n",
    "#output_layer = Dense(1, activation='relu')(dropout_layer1)\n",
    "output_layer = Dense(1, activation='linear')(dense1)"
   ]
  },
  {
   "cell_type": "code",
   "execution_count": 110,
   "metadata": {
    "colab": {
     "base_uri": "https://localhost:8080/"
    },
    "id": "0JG3sbr-HBEm",
    "outputId": "110aaff7-8de4-4875-a455-09a087a54bc9"
   },
   "outputs": [
    {
     "name": "stdout",
     "output_type": "stream",
     "text": [
      "Model: \"model_23\"\n",
      "_________________________________________________________________\n",
      "Layer (type)                 Output Shape              Param #   \n",
      "=================================================================\n",
      "input_27 (InputLayer)        [(None, 24)]              0         \n",
      "_________________________________________________________________\n",
      "dense_61 (Dense)             (None, 4)                 100       \n",
      "_________________________________________________________________\n",
      "dense_62 (Dense)             (None, 1)                 5         \n",
      "=================================================================\n",
      "Total params: 105\n",
      "Trainable params: 105\n",
      "Non-trainable params: 0\n",
      "_________________________________________________________________\n"
     ]
    }
   ],
   "source": [
    "model = Model(inputs=input_layer, outputs=output_layer)\n",
    "model.compile(loss='mean_squared_error', optimizer='adam')\n",
    "model.summary()"
   ]
  },
  {
   "cell_type": "code",
   "execution_count": 111,
   "metadata": {
    "colab": {
     "base_uri": "https://localhost:8080/"
    },
    "id": "Z56AAAplKt9T",
    "outputId": "f987bf64-74d1-452c-c683-b1434e81cc4b"
   },
   "outputs": [
    {
     "name": "stdout",
     "output_type": "stream",
     "text": [
      "Epoch 1/50\n",
      "32/32 [==============================] - 0s 5ms/step - loss: 0.2732 - val_loss: 0.2536\n",
      "Epoch 2/50\n",
      "32/32 [==============================] - 0s 2ms/step - loss: 0.0656 - val_loss: 0.1490\n",
      "Epoch 3/50\n",
      "32/32 [==============================] - 0s 2ms/step - loss: 0.0520 - val_loss: 0.1291\n",
      "Epoch 4/50\n",
      "32/32 [==============================] - 0s 2ms/step - loss: 0.0449 - val_loss: 0.1095\n",
      "Epoch 5/50\n",
      "32/32 [==============================] - 0s 2ms/step - loss: 0.0386 - val_loss: 0.0931\n",
      "Epoch 6/50\n",
      "32/32 [==============================] - 0s 2ms/step - loss: 0.0332 - val_loss: 0.0768\n",
      "Epoch 7/50\n",
      "32/32 [==============================] - 0s 2ms/step - loss: 0.0284 - val_loss: 0.0679\n",
      "Epoch 8/50\n",
      "32/32 [==============================] - 0s 2ms/step - loss: 0.0246 - val_loss: 0.0561\n",
      "Epoch 9/50\n",
      "32/32 [==============================] - 0s 2ms/step - loss: 0.0211 - val_loss: 0.0488\n",
      "Epoch 10/50\n",
      "32/32 [==============================] - 0s 2ms/step - loss: 0.0183 - val_loss: 0.0419\n",
      "Epoch 11/50\n",
      "32/32 [==============================] - 0s 2ms/step - loss: 0.0159 - val_loss: 0.0373\n",
      "Epoch 12/50\n",
      "32/32 [==============================] - 0s 2ms/step - loss: 0.0140 - val_loss: 0.0329\n",
      "Epoch 13/50\n",
      "32/32 [==============================] - 0s 2ms/step - loss: 0.0122 - val_loss: 0.0292\n",
      "Epoch 14/50\n",
      "32/32 [==============================] - 0s 2ms/step - loss: 0.0108 - val_loss: 0.0265\n",
      "Epoch 15/50\n",
      "32/32 [==============================] - 0s 2ms/step - loss: 0.0097 - val_loss: 0.0244\n",
      "Epoch 16/50\n",
      "32/32 [==============================] - 0s 3ms/step - loss: 0.0087 - val_loss: 0.0234\n",
      "Epoch 17/50\n",
      "32/32 [==============================] - 0s 2ms/step - loss: 0.0079 - val_loss: 0.0217\n",
      "Epoch 18/50\n",
      "32/32 [==============================] - 0s 2ms/step - loss: 0.0073 - val_loss: 0.0212\n",
      "Epoch 19/50\n",
      "32/32 [==============================] - 0s 2ms/step - loss: 0.0067 - val_loss: 0.0200\n",
      "Epoch 20/50\n",
      "32/32 [==============================] - 0s 2ms/step - loss: 0.0063 - val_loss: 0.0204\n",
      "Epoch 21/50\n",
      "32/32 [==============================] - 0s 2ms/step - loss: 0.0060 - val_loss: 0.0194\n",
      "Epoch 22/50\n",
      "32/32 [==============================] - 0s 2ms/step - loss: 0.0057 - val_loss: 0.0190\n",
      "Epoch 23/50\n",
      "32/32 [==============================] - 0s 2ms/step - loss: 0.0056 - val_loss: 0.0191\n",
      "Epoch 24/50\n",
      "32/32 [==============================] - 0s 2ms/step - loss: 0.0053 - val_loss: 0.0193\n",
      "Epoch 25/50\n",
      "32/32 [==============================] - 0s 2ms/step - loss: 0.0052 - val_loss: 0.0189\n",
      "Epoch 26/50\n",
      "32/32 [==============================] - 0s 2ms/step - loss: 0.0050 - val_loss: 0.0188\n",
      "Epoch 27/50\n",
      "32/32 [==============================] - 0s 2ms/step - loss: 0.0050 - val_loss: 0.0193\n",
      "Epoch 28/50\n",
      "32/32 [==============================] - 0s 2ms/step - loss: 0.0049 - val_loss: 0.0191\n",
      "Epoch 29/50\n",
      "32/32 [==============================] - 0s 2ms/step - loss: 0.0048 - val_loss: 0.0189\n",
      "Epoch 30/50\n",
      "32/32 [==============================] - 0s 2ms/step - loss: 0.0048 - val_loss: 0.0189\n",
      "Epoch 31/50\n",
      "32/32 [==============================] - 0s 2ms/step - loss: 0.0048 - val_loss: 0.0200\n",
      "Epoch 32/50\n",
      "32/32 [==============================] - 0s 2ms/step - loss: 0.0048 - val_loss: 0.0193\n",
      "Epoch 33/50\n",
      "32/32 [==============================] - 0s 2ms/step - loss: 0.0047 - val_loss: 0.0196\n",
      "Epoch 34/50\n",
      "32/32 [==============================] - 0s 2ms/step - loss: 0.0047 - val_loss: 0.0191\n",
      "Epoch 35/50\n",
      "32/32 [==============================] - 0s 2ms/step - loss: 0.0046 - val_loss: 0.0191\n",
      "Epoch 36/50\n",
      "32/32 [==============================] - 0s 2ms/step - loss: 0.0046 - val_loss: 0.0194\n",
      "Epoch 37/50\n",
      "32/32 [==============================] - 0s 2ms/step - loss: 0.0046 - val_loss: 0.0192\n",
      "Epoch 38/50\n",
      "32/32 [==============================] - 0s 2ms/step - loss: 0.0046 - val_loss: 0.0195\n",
      "Epoch 39/50\n",
      "32/32 [==============================] - 0s 2ms/step - loss: 0.0046 - val_loss: 0.0188\n",
      "Epoch 40/50\n",
      "32/32 [==============================] - 0s 2ms/step - loss: 0.0045 - val_loss: 0.0189\n",
      "Epoch 41/50\n",
      "32/32 [==============================] - 0s 2ms/step - loss: 0.0045 - val_loss: 0.0186\n",
      "Epoch 42/50\n",
      "32/32 [==============================] - 0s 2ms/step - loss: 0.0045 - val_loss: 0.0186\n",
      "Epoch 43/50\n",
      "32/32 [==============================] - 0s 2ms/step - loss: 0.0045 - val_loss: 0.0190\n",
      "Epoch 44/50\n",
      "32/32 [==============================] - 0s 2ms/step - loss: 0.0044 - val_loss: 0.0185\n",
      "Epoch 45/50\n",
      "32/32 [==============================] - 0s 2ms/step - loss: 0.0044 - val_loss: 0.0184\n",
      "Epoch 46/50\n",
      "32/32 [==============================] - 0s 2ms/step - loss: 0.0044 - val_loss: 0.0187\n",
      "Epoch 47/50\n",
      "32/32 [==============================] - 0s 2ms/step - loss: 0.0044 - val_loss: 0.0182\n",
      "Epoch 48/50\n",
      "32/32 [==============================] - 0s 2ms/step - loss: 0.0044 - val_loss: 0.0185\n",
      "Epoch 49/50\n",
      "32/32 [==============================] - 0s 2ms/step - loss: 0.0044 - val_loss: 0.0181\n",
      "Epoch 50/50\n",
      "32/32 [==============================] - 0s 2ms/step - loss: 0.0044 - val_loss: 0.0180\n"
     ]
    }
   ],
   "source": [
    "tf.random.set_seed(100)\n",
    "opt = tf.keras.optimizers.Adam(learning_rate=0.001)\n",
    "history = model.fit(x=X_train_scaled, y=y_train_scaled, batch_size=20, epochs=50, validation_data=(X_valid_scaled, y_valid_scaled))"
   ]
  },
  {
   "cell_type": "code",
   "execution_count": 112,
   "metadata": {
    "colab": {
     "base_uri": "https://localhost:8080/",
     "height": 338
    },
    "id": "I840TdI2gH7m",
    "outputId": "a8ec83f6-6d5b-4695-eb77-730855785908"
   },
   "outputs": [
    {
     "data": {
      "text/plain": [
       "<matplotlib.axes._subplots.AxesSubplot at 0x7ff1a7ccd310>"
      ]
     },
     "execution_count": 112,
     "metadata": {
      "tags": []
     },
     "output_type": "execute_result"
    },
    {
     "data": {
      "image/png": "[encoded data removed]",
      "text/plain": [
       "<Figure size 576x360 with 1 Axes>"
      ]
     },
     "metadata": {
      "needs_background": "light",
      "tags": []
     },
     "output_type": "display_data"
    }
   ],
   "source": [
    "pd.DataFrame(history.history).plot(figsize=(8,5))"
   ]
  },
  {
   "cell_type": "code",
   "execution_count": 113,
   "metadata": {
    "id": "aa3obZ83IBbp"
   },
   "outputs": [],
   "source": [
    "y_pred = model.predict(X_test_scaled)"
   ]
  },
  {
   "cell_type": "code",
   "execution_count": 114,
   "metadata": {
    "id": "MgvtLYhuGx15"
   },
   "outputs": [],
   "source": [
    "y_pred_rescaled = Target_scaler.inverse_transform(y_pred)"
   ]
  },
  {
   "cell_type": "markdown",
   "metadata": {
    "id": "T3B2KIJT2Vp4"
   },
   "source": [
    "Se usa el puntaje $R^2$ para determinar la calidad del modelo y se evaluan las predicciones"
   ]
  },
  {
   "cell_type": "code",
   "execution_count": 131,
   "metadata": {
    "colab": {
     "base_uri": "https://localhost:8080/"
    },
    "id": "-hkt6YryHS2K",
    "outputId": "973a2953-d1d1-437e-badd-2f2911142b85"
   },
   "outputs": [
    {
     "name": "stdout",
     "output_type": "stream",
     "text": [
      "R^2: 0.8393\n"
     ]
    }
   ],
   "source": [
    "from sklearn.metrics import r2_score\n",
    "y_test_rescaled =  Target_scaler.inverse_transform(y_test_scaled)\n",
    "score = r2_score(y_test_rescaled, y_pred_rescaled)\n",
    "print('R^2:', round(score,4))"
   ]
  },
  {
   "cell_type": "code",
   "execution_count": 116,
   "metadata": {
    "id": "Gzk-fjyfHWmk"
   },
   "outputs": [],
   "source": [
    "y_actual = pd.DataFrame(y_test_rescaled, columns=['Actual'])\n",
    "\n",
    "y_hat = pd.DataFrame(y_pred_rescaled, columns=['Predicted'])"
   ]
  },
  {
   "cell_type": "code",
   "execution_count": 122,
   "metadata": {
    "colab": {
     "base_uri": "https://localhost:8080/",
     "height": 422
    },
    "id": "M8JPDNQHVL46",
    "outputId": "ee5283e0-7e54-4de4-8d0e-b3f20be7389f"
   },
   "outputs": [
    {
     "data": {
      "image/png": "[encoded data removed]",
      "text/plain": [
       "<Figure size 792x432 with 1 Axes>"
      ]
     },
     "metadata": {
      "needs_background": "light",
      "tags": []
     },
     "output_type": "display_data"
    }
   ],
   "source": [
    "plt.figure(figsize=(11, 6))\n",
    "plt.plot(y_actual, linestyle='solid', color='r')\n",
    "plt.plot(y_hat, linestyle='dashed', color='b')\n",
    "\n",
    "plt.legend(['Real','Predicción'], loc='best', prop={'size': 14})\n",
    "plt.title('Visitas a Pitagoras', weight='bold', fontsize=16)\n",
    "plt.ylabel('Número de visitas', weight='bold', fontsize=14)\n",
    "plt.xlabel('Días predecidos', weight='bold', fontsize=14)\n",
    "plt.xticks(weight='bold', fontsize=12, rotation=45)\n",
    "plt.yticks(weight='bold', fontsize=12)\n",
    "plt.grid(color = 'gray', linewidth='0.5')\n",
    "plt.show()"
   ]
  },
  {
   "cell_type": "markdown",
   "metadata": {
    "id": "wBffK7Du2miI"
   },
   "source": [
    "Finalmente obteniendo un muy buen ajuste en los datos de prueba, por lo que se considera un buen modelo al momento de realizar la predicción."
   ]
  },
  {
   "cell_type": "code",
   "execution_count": 119,
   "metadata": {
    "colab": {
     "base_uri": "https://localhost:8080/"
    },
    "id": "kGq5J-Iwtplw",
    "outputId": "6309ec5a-f651-48f5-ab20-23b9abd7dc7b"
   },
   "outputs": [
    {
     "name": "stdout",
     "output_type": "stream",
     "text": [
      "3/3 [==============================] - 0s 4ms/step - loss: 0.0180\n",
      "0.01796874590218067\n"
     ]
    }
   ],
   "source": [
    "mse_test=model.evaluate(X_valid_scaled, y_valid_scaled)\n",
    "print(mse_test)"
   ]
  }
 ],
 "metadata": {
  "colab": {
   "collapsed_sections": [],
   "name": "PrediccionNN.ipynb",
   "provenance": []
  },
  "kernelspec": {
   "display_name": "Python 3",
   "language": "python",
   "name": "python3"
  },
  "language_info": {
   "codemirror_mode": {
    "name": "ipython",
    "version": 3
   },
   "file_extension": ".py",
   "mimetype": "text/x-python",
   "name": "python",
   "nbconvert_exporter": "python",
   "pygments_lexer": "ipython3",
   "version": "3.8.8"
  }
 },
 "nbformat": 4,
 "nbformat_minor": 4
}
